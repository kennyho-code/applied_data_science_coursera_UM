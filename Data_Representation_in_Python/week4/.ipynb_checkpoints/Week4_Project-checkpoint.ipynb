{
 "cells": [
  {
   "cell_type": "code",
   "execution_count": 4,
   "metadata": {
    "collapsed": true
   },
   "outputs": [],
   "source": [
    "import pandas as pd"
   ]
  },
  {
   "cell_type": "code",
   "execution_count": 5,
   "metadata": {
    "collapsed": true
   },
   "outputs": [],
   "source": [
    "import matplotlib as plt"
   ]
  },
  {
   "cell_type": "code",
   "execution_count": 7,
   "metadata": {
    "collapsed": false
   },
   "outputs": [
    {
     "name": "stdout",
     "output_type": "stream",
     "text": [
      "    year  attendance  capacity  rank  total_teams\n",
      "0   2006       25979     50398    23           30\n",
      "1   2007       28978     50398    19           30\n",
      "2   2008       33127     50398    13           30\n",
      "3   2009       32902     50398    11           30\n",
      "4   2010       35940     50398    10           30\n",
      "5   2011       35923     50398    12           30\n",
      "6   2012       32474     50398    13           30\n",
      "7   2013       34491     50398    10           30\n",
      "8   2014       33090     50398    10           30\n",
      "9   2015       31334     50398    14           30\n",
      "10  2016       32129     50398    11           30\n"
     ]
    }
   ],
   "source": [
    "mlb_df = pd.read_csv(\"mlb_rockies_attendance.csv\")\n",
    "nba_df = pd.read_csv(\"nba_nuggets_attendance.csv\")\n",
    "nfl_df = pd.read_csv(\"nfl_broncos_attendance.csv\")"
   ]
  },
  {
   "cell_type": "code",
   "execution_count": null,
   "metadata": {
    "collapsed": true
   },
   "outputs": [],
   "source": []
  }
 ],
 "metadata": {
  "kernelspec": {
   "display_name": "Python 2",
   "language": "python",
   "name": "python2"
  },
  "language_info": {
   "codemirror_mode": {
    "name": "ipython",
    "version": 2
   },
   "file_extension": ".py",
   "mimetype": "text/x-python",
   "name": "python",
   "nbconvert_exporter": "python",
   "pygments_lexer": "ipython2",
   "version": "2.7.13"
  }
 },
 "nbformat": 4,
 "nbformat_minor": 2
}
